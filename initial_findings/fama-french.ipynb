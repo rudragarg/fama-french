{
 "cells": [
  {
   "cell_type": "code",
   "execution_count": 148,
   "metadata": {},
   "outputs": [],
   "source": [
    "import pandas as pd\n",
    "import numpy as np\n",
    "import yfinance as yf"
   ]
  },
  {
   "cell_type": "code",
   "execution_count": null,
   "metadata": {},
   "outputs": [],
   "source": []
  },
  {
   "cell_type": "code",
   "execution_count": 2,
   "metadata": {},
   "outputs": [
    {
     "data": {
      "text/plain": [
       "'\\nIdeas\\n\\nFama-French\\n\\n- MKT: Excess return from market\\n\\n\\nMarket: F1 = rm-rf\\n\\n- SMB: Small minus big. excess return of small market cap stocks over larger market cap stock...small stocks expected to have higher return than big stocks\\n\\nSize: F2 = r_small - r_big\\n\\n\\n- HML: High minus low. Excess return of value stocks over growth stocks...Economic insight: growth stocks have lower book to price ratio than value\\n\\nBook/Market Equity: F3 = r_value - r_growth\\n\\n\\n\\n\\nExtra factors:\\n\\nFara-Macbeth 5 factor model:\\n- RMW: Robust minus weak. Excess return of firms with higher operating profits over those with lower profits \\n\\nOP = (Rev - COGS - Operating Expense - Depreciation - Amortization)\\n- CMA: Conservative minus aggressive: Excess return of firms that invest less rather than more \\n\\nInvestment behavior = (total assets year t-1/total assets year t-2)\\n\\nOur addition:\\n- Momentum: Excess return of firms with higher momentum rather than lower\\n- Volatility: Excess return of firms with more volatility rather than less\\n- Credit Rating: Excess return of firms with more credit rating rather than less\\n\\n\\n\\n\\n\\nresources:\\nhttps://www.bauer.uh.edu/rsusmel/phd/Fama-French_JFE93.pdf\\nhttps://www.bauer.uh.edu/rsusmel/phd/jegadeesh-titman93.pdf\\n\\nhttps://medium.com/the-handbook-of-coding-in-finance/estimating-stock-returns-with-fama-french-three-factor-model-in-python-1a98e3936859\\nhttps://www.quantconnect.com/tutorials/introduction-to-financial-python/fama-french-multi-factor-models\\n\\n\\nhttp://mba.tuck.dartmouth.edu/pages/faculty/ken.french/data_library.html\\nhttps://wrds-www.wharton.upenn.edu/pages/support/manuals-and-overviews/fama-french/fama-french-five-factors/\\nhttps://wrds-www.wharton.upenn.edu/pages/support/research-wrds/research-guides/fama-french-research-portfolios-and-factors/\\n\\n\\nData sources:\\nhttps://wrds-www.wharton.upenn.edu/pages/get-data/center-research-security-prices-crsp/quarterly-update/tools/mutual-funds-returns-and-fama-french/\\n\\n\\n\\n'"
      ]
     },
     "execution_count": 2,
     "metadata": {},
     "output_type": "execute_result"
    }
   ],
   "source": [
    "'''\n",
    "Ideas\n",
    "\n",
    "Fama-French\n",
    "\n",
    "- MKT: Excess return from market\n",
    "\n",
    "\n",
    "\n",
    "Market: F1 = rm-rf\n",
    "\n",
    "Rm-Rf, the excess return on the market, value-weight return of all CRSP firms incorporated in the US \n",
    "and listed on the NYSE, AMEX, or NASDAQ that have a CRSP share code of 10 or 11 at the beginning of \n",
    "month t, good shares and price data at the beginning of t, and good return data for t minus the one-month \n",
    "Treasury bill rate (from Ibbotson Associates).\n",
    "\n",
    "\n",
    "- SMB: Small minus big. excess return of small market cap stocks over larger market cap stock...small stocks expected to have higher return than big stocks\n",
    "\n",
    "Size: F2 = r_small - r_big\n",
    "\n",
    "SMB = 1/3 (Small Value + Small Neutral + Small Growth) - 1/3 (Big Value + Big Neutral + Big Growth).\n",
    "\n",
    "Sort by size and then value??? what is neutral\n",
    "\n",
    "- HML: High minus low. Excess return of value stocks over growth stocks...Economic insight: growth stocks have lower book to price ratio than value\n",
    "\n",
    "Book/Market Equity: F3 = r_value - r_growth\n",
    "\n",
    "HML = 1/2 (Small Value + Big Value) - 1/2 (Small Growth + Big Growth).\t\n",
    "\n",
    "Sort by value and then size??? \n",
    "\n",
    "\n",
    "\n",
    "Extra factors:\n",
    "\n",
    "Fara-Macbeth 5 factor model:\n",
    "- RMW: Robust minus weak. Excess return of firms with higher operating profits over those with lower profits \n",
    "\n",
    "OP = (Rev - COGS - Operating Expense - Depreciation - Amortization)\n",
    "- CMA: Conservative minus aggressive: Excess return of firms that invest less rather than more \n",
    "\n",
    "Investment behavior = (total assets year t-1/total assets year t-2)\n",
    "\n",
    "Our addition:\n",
    "- Momentum: Excess return of firms with higher momentum rather than lower (market or stocks)\n",
    "- Volatility: Excess return of firms with more volatility rather than less (market or stocks RMS rapid-stable)\n",
    "- Credit Rating: Excess return of firms with more credit rating rather than less\n",
    "\n",
    "\n",
    "\n",
    "\n",
    "\n",
    "resources:\n",
    "https://www.bauer.uh.edu/rsusmel/phd/Fama-French_JFE93.pdf\n",
    "https://www.bauer.uh.edu/rsusmel/phd/jegadeesh-titman93.pdf\n",
    "\n",
    "https://medium.com/the-handbook-of-coding-in-finance/estimating-stock-returns-with-fama-french-three-factor-model-in-python-1a98e3936859\n",
    "https://www.quantconnect.com/tutorials/introduction-to-financial-python/fama-french-multi-factor-models\n",
    "\n",
    "\n",
    "http://mba.tuck.dartmouth.edu/pages/faculty/ken.french/data_library.html\n",
    "https://wrds-www.wharton.upenn.edu/pages/support/manuals-and-overviews/fama-french/fama-french-five-factors/\n",
    "https://wrds-www.wharton.upenn.edu/pages/support/research-wrds/research-guides/fama-french-research-portfolios-and-factors/\n",
    "\n",
    "\n",
    "Data sources:\n",
    "https://wrds-www.wharton.upenn.edu/pages/get-data/center-research-security-prices-crsp/quarterly-update/tools/mutual-funds-returns-and-fama-french/\n",
    "\n",
    "\n",
    "\n",
    "\n",
    "questions:\n",
    "\n",
    "    what secuirites should we look at...mutual funds/etf/stocks\n",
    "    How far should our data go?\n",
    "    How to find growth vs value stocks/funds (look at book to price or book to market)\n",
    "    Where to get operating profit info/total assets (found in wrds)\n",
    "\n",
    "    Should we reconstruct our factors from scratch for market return, smb, hml, rmw, cma\n",
    "\n",
    "    Is momentum from the market or fund themselves (same for vol...)\n",
    "\n",
    "    How to solve for SmB and HmL using info from french website...wouldn't we just sort by the market cap and the book/market ratio???\n",
    "\n",
    "    Can we simplify rm-rf to be sp500 return - risk free rate instead of the the weighted average of all stocks in the market\n",
    "\n",
    "\n",
    "    Significance of factors\n",
    "\n",
    "    Is there a way we can CSRP codes to find these stocks\n",
    "\n",
    "    What are the cut offs for rmw, cma, momentum, and there other factor we come up with?\n",
    "\n",
    "    How should we construct a portfilo of stocks....what is the metric to use...r2? long the best and short the worst\n",
    "\n",
    "\n",
    "\n",
    "'''"
   ]
  },
  {
   "cell_type": "code",
   "execution_count": 309,
   "metadata": {},
   "outputs": [],
   "source": [
    "ff = pd.read_csv(\"ff_all.csv\")"
   ]
  },
  {
   "cell_type": "code",
   "execution_count": 310,
   "metadata": {},
   "outputs": [
    {
     "data": {
      "text/html": [
       "<div>\n",
       "<style scoped>\n",
       "    .dataframe tbody tr th:only-of-type {\n",
       "        vertical-align: middle;\n",
       "    }\n",
       "\n",
       "    .dataframe tbody tr th {\n",
       "        vertical-align: top;\n",
       "    }\n",
       "\n",
       "    .dataframe thead th {\n",
       "        text-align: right;\n",
       "    }\n",
       "</style>\n",
       "<table border=\"1\" class=\"dataframe\">\n",
       "  <thead>\n",
       "    <tr style=\"text-align: right;\">\n",
       "      <th></th>\n",
       "      <th>date</th>\n",
       "      <th>mktrf</th>\n",
       "      <th>smb</th>\n",
       "      <th>hml</th>\n",
       "      <th>rmw</th>\n",
       "      <th>cma</th>\n",
       "      <th>rf</th>\n",
       "      <th>umd</th>\n",
       "    </tr>\n",
       "  </thead>\n",
       "  <tbody>\n",
       "    <tr>\n",
       "      <th>0</th>\n",
       "      <td>19630701</td>\n",
       "      <td>-0.0067</td>\n",
       "      <td>0.0002</td>\n",
       "      <td>-0.0035</td>\n",
       "      <td>0.0003</td>\n",
       "      <td>0.0013</td>\n",
       "      <td>0.00012</td>\n",
       "      <td>-0.0021</td>\n",
       "    </tr>\n",
       "    <tr>\n",
       "      <th>1</th>\n",
       "      <td>19630702</td>\n",
       "      <td>0.0079</td>\n",
       "      <td>-0.0028</td>\n",
       "      <td>0.0028</td>\n",
       "      <td>-0.0008</td>\n",
       "      <td>-0.0021</td>\n",
       "      <td>0.00012</td>\n",
       "      <td>0.0042</td>\n",
       "    </tr>\n",
       "    <tr>\n",
       "      <th>2</th>\n",
       "      <td>19630703</td>\n",
       "      <td>0.0063</td>\n",
       "      <td>-0.0018</td>\n",
       "      <td>-0.0010</td>\n",
       "      <td>0.0013</td>\n",
       "      <td>-0.0025</td>\n",
       "      <td>0.00012</td>\n",
       "      <td>0.0041</td>\n",
       "    </tr>\n",
       "    <tr>\n",
       "      <th>3</th>\n",
       "      <td>19630705</td>\n",
       "      <td>0.0040</td>\n",
       "      <td>0.0009</td>\n",
       "      <td>-0.0028</td>\n",
       "      <td>0.0007</td>\n",
       "      <td>-0.0030</td>\n",
       "      <td>0.00012</td>\n",
       "      <td>0.0007</td>\n",
       "    </tr>\n",
       "    <tr>\n",
       "      <th>4</th>\n",
       "      <td>19630708</td>\n",
       "      <td>-0.0063</td>\n",
       "      <td>0.0007</td>\n",
       "      <td>-0.0020</td>\n",
       "      <td>-0.0027</td>\n",
       "      <td>0.0006</td>\n",
       "      <td>0.00012</td>\n",
       "      <td>-0.0045</td>\n",
       "    </tr>\n",
       "  </tbody>\n",
       "</table>\n",
       "</div>"
      ],
      "text/plain": [
       "       date   mktrf     smb     hml     rmw     cma       rf     umd\n",
       "0  19630701 -0.0067  0.0002 -0.0035  0.0003  0.0013  0.00012 -0.0021\n",
       "1  19630702  0.0079 -0.0028  0.0028 -0.0008 -0.0021  0.00012  0.0042\n",
       "2  19630703  0.0063 -0.0018 -0.0010  0.0013 -0.0025  0.00012  0.0041\n",
       "3  19630705  0.0040  0.0009 -0.0028  0.0007 -0.0030  0.00012  0.0007\n",
       "4  19630708 -0.0063  0.0007 -0.0020 -0.0027  0.0006  0.00012 -0.0045"
      ]
     },
     "execution_count": 310,
     "metadata": {},
     "output_type": "execute_result"
    }
   ],
   "source": [
    "ff.head()"
   ]
  },
  {
   "cell_type": "code",
   "execution_count": 311,
   "metadata": {},
   "outputs": [],
   "source": [
    "ff[\"date\"] = pd.to_datetime(ff[\"date\"].apply(str))"
   ]
  },
  {
   "cell_type": "code",
   "execution_count": 312,
   "metadata": {},
   "outputs": [
    {
     "data": {
      "text/plain": [
       "pandas._libs.tslibs.timestamps.Timestamp"
      ]
     },
     "execution_count": 312,
     "metadata": {},
     "output_type": "execute_result"
    }
   ],
   "source": [
    "type(ff[\"date\"][0])"
   ]
  },
  {
   "cell_type": "code",
   "execution_count": 313,
   "metadata": {},
   "outputs": [],
   "source": [
    "def get_data(symbol, interval = \"1d\", start_date = \"2012-01-01\", end_date = \"2021-12-31\"):\n",
    "   \n",
    "    '''\n",
    "    Returns asset information\n",
    "\n",
    "            Parameters:\n",
    "                    symbol (string): ticker symbol for lookup\n",
    "                    interval (string): periods between datapoints (valid intervals: 1m,2m,5m,15m,30m,60m,90m,1h,1d,5d,1wk,1mo,3mo)\n",
    "                    start_date (string): format YYYY-MM-DD\n",
    "                    end_date (string): format YYYY-MM-DD\n",
    "            Returns:\n",
    "                    (DateFrame): Asset Information  \n",
    "    '''\n",
    "\n",
    "    return yf.download(symbol, start=start_date, end=end_date, interval=interval)"
   ]
  },
  {
   "cell_type": "code",
   "execution_count": null,
   "metadata": {},
   "outputs": [],
   "source": []
  },
  {
   "cell_type": "code",
   "execution_count": 314,
   "metadata": {},
   "outputs": [],
   "source": [
    "stocks = pd.read_csv(\"Daily_stock_data.csv\")"
   ]
  },
  {
   "cell_type": "code",
   "execution_count": 315,
   "metadata": {},
   "outputs": [
    {
     "data": {
      "text/html": [
       "<div>\n",
       "<style scoped>\n",
       "    .dataframe tbody tr th:only-of-type {\n",
       "        vertical-align: middle;\n",
       "    }\n",
       "\n",
       "    .dataframe tbody tr th {\n",
       "        vertical-align: top;\n",
       "    }\n",
       "\n",
       "    .dataframe thead th {\n",
       "        text-align: right;\n",
       "    }\n",
       "</style>\n",
       "<table border=\"1\" class=\"dataframe\">\n",
       "  <thead>\n",
       "    <tr style=\"text-align: right;\">\n",
       "      <th></th>\n",
       "      <th>gvkey</th>\n",
       "      <th>iid</th>\n",
       "      <th>datadate</th>\n",
       "      <th>tic</th>\n",
       "      <th>conm</th>\n",
       "      <th>cshoc</th>\n",
       "      <th>prccd</th>\n",
       "      <th>exchg</th>\n",
       "    </tr>\n",
       "  </thead>\n",
       "  <tbody>\n",
       "    <tr>\n",
       "      <th>0</th>\n",
       "      <td>1300</td>\n",
       "      <td>1</td>\n",
       "      <td>20120103</td>\n",
       "      <td>HON</td>\n",
       "      <td>HONEYWELL INTERNATIONAL INC</td>\n",
       "      <td>773497000.0</td>\n",
       "      <td>55.58</td>\n",
       "      <td>14</td>\n",
       "    </tr>\n",
       "    <tr>\n",
       "      <th>1</th>\n",
       "      <td>1300</td>\n",
       "      <td>1</td>\n",
       "      <td>20120104</td>\n",
       "      <td>HON</td>\n",
       "      <td>HONEYWELL INTERNATIONAL INC</td>\n",
       "      <td>773497000.0</td>\n",
       "      <td>55.53</td>\n",
       "      <td>14</td>\n",
       "    </tr>\n",
       "    <tr>\n",
       "      <th>2</th>\n",
       "      <td>1300</td>\n",
       "      <td>1</td>\n",
       "      <td>20120105</td>\n",
       "      <td>HON</td>\n",
       "      <td>HONEYWELL INTERNATIONAL INC</td>\n",
       "      <td>773497000.0</td>\n",
       "      <td>55.59</td>\n",
       "      <td>14</td>\n",
       "    </tr>\n",
       "    <tr>\n",
       "      <th>3</th>\n",
       "      <td>1300</td>\n",
       "      <td>1</td>\n",
       "      <td>20120106</td>\n",
       "      <td>HON</td>\n",
       "      <td>HONEYWELL INTERNATIONAL INC</td>\n",
       "      <td>773497000.0</td>\n",
       "      <td>55.18</td>\n",
       "      <td>14</td>\n",
       "    </tr>\n",
       "    <tr>\n",
       "      <th>4</th>\n",
       "      <td>1300</td>\n",
       "      <td>1</td>\n",
       "      <td>20120109</td>\n",
       "      <td>HON</td>\n",
       "      <td>HONEYWELL INTERNATIONAL INC</td>\n",
       "      <td>773497000.0</td>\n",
       "      <td>55.64</td>\n",
       "      <td>14</td>\n",
       "    </tr>\n",
       "  </tbody>\n",
       "</table>\n",
       "</div>"
      ],
      "text/plain": [
       "   gvkey  iid  datadate  tic                         conm        cshoc  prccd  \\\n",
       "0   1300    1  20120103  HON  HONEYWELL INTERNATIONAL INC  773497000.0  55.58   \n",
       "1   1300    1  20120104  HON  HONEYWELL INTERNATIONAL INC  773497000.0  55.53   \n",
       "2   1300    1  20120105  HON  HONEYWELL INTERNATIONAL INC  773497000.0  55.59   \n",
       "3   1300    1  20120106  HON  HONEYWELL INTERNATIONAL INC  773497000.0  55.18   \n",
       "4   1300    1  20120109  HON  HONEYWELL INTERNATIONAL INC  773497000.0  55.64   \n",
       "\n",
       "   exchg  \n",
       "0     14  \n",
       "1     14  \n",
       "2     14  \n",
       "3     14  \n",
       "4     14  "
      ]
     },
     "execution_count": 315,
     "metadata": {},
     "output_type": "execute_result"
    }
   ],
   "source": [
    "stocks.head()"
   ]
  },
  {
   "cell_type": "code",
   "execution_count": 316,
   "metadata": {},
   "outputs": [
    {
     "data": {
      "text/plain": [
       "gvkey         int64\n",
       "iid           int64\n",
       "datadate      int64\n",
       "tic          object\n",
       "conm         object\n",
       "cshoc       float64\n",
       "prccd       float64\n",
       "exchg         int64\n",
       "dtype: object"
      ]
     },
     "execution_count": 316,
     "metadata": {},
     "output_type": "execute_result"
    }
   ],
   "source": [
    "stocks.dtypes"
   ]
  },
  {
   "cell_type": "code",
   "execution_count": 317,
   "metadata": {},
   "outputs": [],
   "source": [
    "stocks = stocks.rename({'datadate':'date'}, axis=1)"
   ]
  },
  {
   "cell_type": "code",
   "execution_count": 318,
   "metadata": {},
   "outputs": [],
   "source": [
    "stocks[\"date\"] = pd.to_datetime(stocks[\"date\"].apply(str))"
   ]
  },
  {
   "cell_type": "code",
   "execution_count": 319,
   "metadata": {},
   "outputs": [],
   "source": [
    "import matplotlib.pyplot as plt"
   ]
  },
  {
   "cell_type": "code",
   "execution_count": 320,
   "metadata": {},
   "outputs": [
    {
     "data": {
      "text/plain": [
       "[<matplotlib.lines.Line2D at 0x7fc8b1ccaf40>]"
      ]
     },
     "execution_count": 320,
     "metadata": {},
     "output_type": "execute_result"
    },
    {
     "data": {
      "image/png": "[encoded data removed]",
      "text/plain": [
       "<Figure size 432x288 with 1 Axes>"
      ]
     },
     "metadata": {
      "needs_background": "light"
     },
     "output_type": "display_data"
    }
   ],
   "source": [
    "example = stocks[stocks[\"tic\"] == \"MSFT\"]\n",
    "plt.plot(example[\"date\"], example[\"prccd\"])"
   ]
  },
  {
   "cell_type": "code",
   "execution_count": null,
   "metadata": {},
   "outputs": [],
   "source": []
  },
  {
   "cell_type": "code",
   "execution_count": 321,
   "metadata": {},
   "outputs": [],
   "source": [
    "\n",
    "close_prices = example.set_index(\"date\")[[\"prccd\"]]"
   ]
  },
  {
   "cell_type": "code",
   "execution_count": 322,
   "metadata": {},
   "outputs": [
    {
     "data": {
      "text/html": [
       "<div>\n",
       "<style scoped>\n",
       "    .dataframe tbody tr th:only-of-type {\n",
       "        vertical-align: middle;\n",
       "    }\n",
       "\n",
       "    .dataframe tbody tr th {\n",
       "        vertical-align: top;\n",
       "    }\n",
       "\n",
       "    .dataframe thead th {\n",
       "        text-align: right;\n",
       "    }\n",
       "</style>\n",
       "<table border=\"1\" class=\"dataframe\">\n",
       "  <thead>\n",
       "    <tr style=\"text-align: right;\">\n",
       "      <th></th>\n",
       "      <th>prccd</th>\n",
       "    </tr>\n",
       "    <tr>\n",
       "      <th>date</th>\n",
       "      <th></th>\n",
       "    </tr>\n",
       "  </thead>\n",
       "  <tbody>\n",
       "    <tr>\n",
       "      <th>2012-01-03</th>\n",
       "      <td>26.765</td>\n",
       "    </tr>\n",
       "    <tr>\n",
       "      <th>2012-01-04</th>\n",
       "      <td>27.400</td>\n",
       "    </tr>\n",
       "    <tr>\n",
       "      <th>2012-01-05</th>\n",
       "      <td>27.680</td>\n",
       "    </tr>\n",
       "    <tr>\n",
       "      <th>2012-01-06</th>\n",
       "      <td>28.105</td>\n",
       "    </tr>\n",
       "    <tr>\n",
       "      <th>2012-01-09</th>\n",
       "      <td>27.740</td>\n",
       "    </tr>\n",
       "    <tr>\n",
       "      <th>...</th>\n",
       "      <td>...</td>\n",
       "    </tr>\n",
       "    <tr>\n",
       "      <th>2021-12-27</th>\n",
       "      <td>342.450</td>\n",
       "    </tr>\n",
       "    <tr>\n",
       "      <th>2021-12-28</th>\n",
       "      <td>341.250</td>\n",
       "    </tr>\n",
       "    <tr>\n",
       "      <th>2021-12-29</th>\n",
       "      <td>341.950</td>\n",
       "    </tr>\n",
       "    <tr>\n",
       "      <th>2021-12-30</th>\n",
       "      <td>339.320</td>\n",
       "    </tr>\n",
       "    <tr>\n",
       "      <th>2021-12-31</th>\n",
       "      <td>336.320</td>\n",
       "    </tr>\n",
       "  </tbody>\n",
       "</table>\n",
       "<p>2517 rows × 1 columns</p>\n",
       "</div>"
      ],
      "text/plain": [
       "              prccd\n",
       "date               \n",
       "2012-01-03   26.765\n",
       "2012-01-04   27.400\n",
       "2012-01-05   27.680\n",
       "2012-01-06   28.105\n",
       "2012-01-09   27.740\n",
       "...             ...\n",
       "2021-12-27  342.450\n",
       "2021-12-28  341.250\n",
       "2021-12-29  341.950\n",
       "2021-12-30  339.320\n",
       "2021-12-31  336.320\n",
       "\n",
       "[2517 rows x 1 columns]"
      ]
     },
     "execution_count": 322,
     "metadata": {},
     "output_type": "execute_result"
    }
   ],
   "source": [
    "close_prices"
   ]
  },
  {
   "cell_type": "code",
   "execution_count": 384,
   "metadata": {},
   "outputs": [
    {
     "name": "stdout",
     "output_type": "stream",
     "text": [
      "[*********************100%***********************]  1 of 1 completed\n"
     ]
    }
   ],
   "source": [
    "example = get_data(\"AXVNX\")"
   ]
  },
  {
   "cell_type": "code",
   "execution_count": 385,
   "metadata": {},
   "outputs": [
    {
     "data": {
      "text/html": [
       "<div>\n",
       "<style scoped>\n",
       "    .dataframe tbody tr th:only-of-type {\n",
       "        vertical-align: middle;\n",
       "    }\n",
       "\n",
       "    .dataframe tbody tr th {\n",
       "        vertical-align: top;\n",
       "    }\n",
       "\n",
       "    .dataframe thead th {\n",
       "        text-align: right;\n",
       "    }\n",
       "</style>\n",
       "<table border=\"1\" class=\"dataframe\">\n",
       "  <thead>\n",
       "    <tr style=\"text-align: right;\">\n",
       "      <th></th>\n",
       "      <th>Open</th>\n",
       "      <th>High</th>\n",
       "      <th>Low</th>\n",
       "      <th>Close</th>\n",
       "      <th>Adj Close</th>\n",
       "      <th>Volume</th>\n",
       "    </tr>\n",
       "    <tr>\n",
       "      <th>Date</th>\n",
       "      <th></th>\n",
       "      <th></th>\n",
       "      <th></th>\n",
       "      <th></th>\n",
       "      <th></th>\n",
       "      <th></th>\n",
       "    </tr>\n",
       "  </thead>\n",
       "  <tbody>\n",
       "    <tr>\n",
       "      <th>2019-01-08 00:00:00-05:00</th>\n",
       "      <td>10.680000</td>\n",
       "      <td>10.680000</td>\n",
       "      <td>10.680000</td>\n",
       "      <td>10.680000</td>\n",
       "      <td>10.264190</td>\n",
       "      <td>0</td>\n",
       "    </tr>\n",
       "    <tr>\n",
       "      <th>2019-01-09 00:00:00-05:00</th>\n",
       "      <td>10.800000</td>\n",
       "      <td>10.800000</td>\n",
       "      <td>10.800000</td>\n",
       "      <td>10.800000</td>\n",
       "      <td>10.379519</td>\n",
       "      <td>0</td>\n",
       "    </tr>\n",
       "    <tr>\n",
       "      <th>2019-01-10 00:00:00-05:00</th>\n",
       "      <td>10.850000</td>\n",
       "      <td>10.850000</td>\n",
       "      <td>10.850000</td>\n",
       "      <td>10.850000</td>\n",
       "      <td>10.427572</td>\n",
       "      <td>0</td>\n",
       "    </tr>\n",
       "    <tr>\n",
       "      <th>2019-01-11 00:00:00-05:00</th>\n",
       "      <td>10.900000</td>\n",
       "      <td>10.900000</td>\n",
       "      <td>10.900000</td>\n",
       "      <td>10.900000</td>\n",
       "      <td>10.475625</td>\n",
       "      <td>0</td>\n",
       "    </tr>\n",
       "    <tr>\n",
       "      <th>2019-01-14 00:00:00-05:00</th>\n",
       "      <td>10.860000</td>\n",
       "      <td>10.860000</td>\n",
       "      <td>10.860000</td>\n",
       "      <td>10.860000</td>\n",
       "      <td>10.437182</td>\n",
       "      <td>0</td>\n",
       "    </tr>\n",
       "    <tr>\n",
       "      <th>...</th>\n",
       "      <td>...</td>\n",
       "      <td>...</td>\n",
       "      <td>...</td>\n",
       "      <td>...</td>\n",
       "      <td>...</td>\n",
       "      <td>...</td>\n",
       "    </tr>\n",
       "    <tr>\n",
       "      <th>2021-12-23 00:00:00-05:00</th>\n",
       "      <td>16.690001</td>\n",
       "      <td>16.690001</td>\n",
       "      <td>16.690001</td>\n",
       "      <td>16.690001</td>\n",
       "      <td>16.690001</td>\n",
       "      <td>0</td>\n",
       "    </tr>\n",
       "    <tr>\n",
       "      <th>2021-12-27 00:00:00-05:00</th>\n",
       "      <td>16.920000</td>\n",
       "      <td>16.920000</td>\n",
       "      <td>16.920000</td>\n",
       "      <td>16.920000</td>\n",
       "      <td>16.920000</td>\n",
       "      <td>0</td>\n",
       "    </tr>\n",
       "    <tr>\n",
       "      <th>2021-12-28 00:00:00-05:00</th>\n",
       "      <td>16.910000</td>\n",
       "      <td>16.910000</td>\n",
       "      <td>16.910000</td>\n",
       "      <td>16.910000</td>\n",
       "      <td>16.910000</td>\n",
       "      <td>0</td>\n",
       "    </tr>\n",
       "    <tr>\n",
       "      <th>2021-12-29 00:00:00-05:00</th>\n",
       "      <td>16.969999</td>\n",
       "      <td>16.969999</td>\n",
       "      <td>16.969999</td>\n",
       "      <td>16.969999</td>\n",
       "      <td>16.969999</td>\n",
       "      <td>0</td>\n",
       "    </tr>\n",
       "    <tr>\n",
       "      <th>2021-12-30 00:00:00-05:00</th>\n",
       "      <td>16.889999</td>\n",
       "      <td>16.889999</td>\n",
       "      <td>16.889999</td>\n",
       "      <td>16.889999</td>\n",
       "      <td>16.889999</td>\n",
       "      <td>0</td>\n",
       "    </tr>\n",
       "  </tbody>\n",
       "</table>\n",
       "<p>752 rows × 6 columns</p>\n",
       "</div>"
      ],
      "text/plain": [
       "                                Open       High        Low      Close  \\\n",
       "Date                                                                    \n",
       "2019-01-08 00:00:00-05:00  10.680000  10.680000  10.680000  10.680000   \n",
       "2019-01-09 00:00:00-05:00  10.800000  10.800000  10.800000  10.800000   \n",
       "2019-01-10 00:00:00-05:00  10.850000  10.850000  10.850000  10.850000   \n",
       "2019-01-11 00:00:00-05:00  10.900000  10.900000  10.900000  10.900000   \n",
       "2019-01-14 00:00:00-05:00  10.860000  10.860000  10.860000  10.860000   \n",
       "...                              ...        ...        ...        ...   \n",
       "2021-12-23 00:00:00-05:00  16.690001  16.690001  16.690001  16.690001   \n",
       "2021-12-27 00:00:00-05:00  16.920000  16.920000  16.920000  16.920000   \n",
       "2021-12-28 00:00:00-05:00  16.910000  16.910000  16.910000  16.910000   \n",
       "2021-12-29 00:00:00-05:00  16.969999  16.969999  16.969999  16.969999   \n",
       "2021-12-30 00:00:00-05:00  16.889999  16.889999  16.889999  16.889999   \n",
       "\n",
       "                           Adj Close  Volume  \n",
       "Date                                          \n",
       "2019-01-08 00:00:00-05:00  10.264190       0  \n",
       "2019-01-09 00:00:00-05:00  10.379519       0  \n",
       "2019-01-10 00:00:00-05:00  10.427572       0  \n",
       "2019-01-11 00:00:00-05:00  10.475625       0  \n",
       "2019-01-14 00:00:00-05:00  10.437182       0  \n",
       "...                              ...     ...  \n",
       "2021-12-23 00:00:00-05:00  16.690001       0  \n",
       "2021-12-27 00:00:00-05:00  16.920000       0  \n",
       "2021-12-28 00:00:00-05:00  16.910000       0  \n",
       "2021-12-29 00:00:00-05:00  16.969999       0  \n",
       "2021-12-30 00:00:00-05:00  16.889999       0  \n",
       "\n",
       "[752 rows x 6 columns]"
      ]
     },
     "execution_count": 385,
     "metadata": {},
     "output_type": "execute_result"
    }
   ],
   "source": [
    "example"
   ]
  },
  {
   "cell_type": "code",
   "execution_count": 386,
   "metadata": {},
   "outputs": [],
   "source": [
    "example.index = pd.to_datetime(example.index)"
   ]
  },
  {
   "cell_type": "code",
   "execution_count": 387,
   "metadata": {},
   "outputs": [],
   "source": [
    "close_prices = example[[\"Close\"]]"
   ]
  },
  {
   "cell_type": "code",
   "execution_count": 388,
   "metadata": {},
   "outputs": [
    {
     "name": "stderr",
     "output_type": "stream",
     "text": [
      "/var/folders/m6/h9jtrhyn259fytxp6j9xh9v00000gn/T/ipykernel_4880/1967168382.py:1: SettingWithCopyWarning: \n",
      "A value is trying to be set on a copy of a slice from a DataFrame.\n",
      "Try using .loc[row_indexer,col_indexer] = value instead\n",
      "\n",
      "See the caveats in the documentation: https://pandas.pydata.org/pandas-docs/stable/user_guide/indexing.html#returning-a-view-versus-a-copy\n",
      "  close_prices[\"return\"] = close_prices['Close'].pct_change()\n"
     ]
    }
   ],
   "source": [
    "close_prices[\"return\"] = close_prices['Close'].pct_change()"
   ]
  },
  {
   "cell_type": "code",
   "execution_count": 389,
   "metadata": {},
   "outputs": [
    {
     "ename": "KeyError",
     "evalue": "'prccd'",
     "output_type": "error",
     "traceback": [
      "\u001b[0;31m---------------------------------------------------------------------------\u001b[0m",
      "\u001b[0;31mKeyError\u001b[0m                                  Traceback (most recent call last)",
      "File \u001b[0;32m/opt/anaconda3/lib/python3.9/site-packages/pandas/core/indexes/base.py:3621\u001b[0m, in \u001b[0;36mIndex.get_loc\u001b[0;34m(self, key, method, tolerance)\u001b[0m\n\u001b[1;32m   3620\u001b[0m \u001b[39mtry\u001b[39;00m:\n\u001b[0;32m-> 3621\u001b[0m     \u001b[39mreturn\u001b[39;00m \u001b[39mself\u001b[39;49m\u001b[39m.\u001b[39;49m_engine\u001b[39m.\u001b[39;49mget_loc(casted_key)\n\u001b[1;32m   3622\u001b[0m \u001b[39mexcept\u001b[39;00m \u001b[39mKeyError\u001b[39;00m \u001b[39mas\u001b[39;00m err:\n",
      "File \u001b[0;32m/opt/anaconda3/lib/python3.9/site-packages/pandas/_libs/index.pyx:136\u001b[0m, in \u001b[0;36mpandas._libs.index.IndexEngine.get_loc\u001b[0;34m()\u001b[0m\n",
      "File \u001b[0;32m/opt/anaconda3/lib/python3.9/site-packages/pandas/_libs/index.pyx:163\u001b[0m, in \u001b[0;36mpandas._libs.index.IndexEngine.get_loc\u001b[0;34m()\u001b[0m\n",
      "File \u001b[0;32mpandas/_libs/hashtable_class_helper.pxi:5198\u001b[0m, in \u001b[0;36mpandas._libs.hashtable.PyObjectHashTable.get_item\u001b[0;34m()\u001b[0m\n",
      "File \u001b[0;32mpandas/_libs/hashtable_class_helper.pxi:5206\u001b[0m, in \u001b[0;36mpandas._libs.hashtable.PyObjectHashTable.get_item\u001b[0;34m()\u001b[0m\n",
      "\u001b[0;31mKeyError\u001b[0m: 'prccd'",
      "\nThe above exception was the direct cause of the following exception:\n",
      "\u001b[0;31mKeyError\u001b[0m                                  Traceback (most recent call last)",
      "\u001b[1;32m/Users/rudra/Library/CloudStorage/OneDrive-Personal/Documents/quant_investment_strats/Fama-French/fama-french.ipynb Cell 25\u001b[0m in \u001b[0;36m<cell line: 1>\u001b[0;34m()\u001b[0m\n\u001b[0;32m----> <a href='vscode-notebook-cell:/Users/rudra/Library/CloudStorage/OneDrive-Personal/Documents/quant_investment_strats/Fama-French/fama-french.ipynb#X44sZmlsZQ%3D%3D?line=0'>1</a>\u001b[0m close_prices[\u001b[39m\"\u001b[39m\u001b[39mreturn\u001b[39m\u001b[39m\"\u001b[39m] \u001b[39m=\u001b[39m close_prices[\u001b[39m'\u001b[39;49m\u001b[39mprccd\u001b[39;49m\u001b[39m'\u001b[39;49m]\u001b[39m.\u001b[39mpct_change()\n",
      "File \u001b[0;32m/opt/anaconda3/lib/python3.9/site-packages/pandas/core/frame.py:3505\u001b[0m, in \u001b[0;36mDataFrame.__getitem__\u001b[0;34m(self, key)\u001b[0m\n\u001b[1;32m   3503\u001b[0m \u001b[39mif\u001b[39;00m \u001b[39mself\u001b[39m\u001b[39m.\u001b[39mcolumns\u001b[39m.\u001b[39mnlevels \u001b[39m>\u001b[39m \u001b[39m1\u001b[39m:\n\u001b[1;32m   3504\u001b[0m     \u001b[39mreturn\u001b[39;00m \u001b[39mself\u001b[39m\u001b[39m.\u001b[39m_getitem_multilevel(key)\n\u001b[0;32m-> 3505\u001b[0m indexer \u001b[39m=\u001b[39m \u001b[39mself\u001b[39;49m\u001b[39m.\u001b[39;49mcolumns\u001b[39m.\u001b[39;49mget_loc(key)\n\u001b[1;32m   3506\u001b[0m \u001b[39mif\u001b[39;00m is_integer(indexer):\n\u001b[1;32m   3507\u001b[0m     indexer \u001b[39m=\u001b[39m [indexer]\n",
      "File \u001b[0;32m/opt/anaconda3/lib/python3.9/site-packages/pandas/core/indexes/base.py:3623\u001b[0m, in \u001b[0;36mIndex.get_loc\u001b[0;34m(self, key, method, tolerance)\u001b[0m\n\u001b[1;32m   3621\u001b[0m     \u001b[39mreturn\u001b[39;00m \u001b[39mself\u001b[39m\u001b[39m.\u001b[39m_engine\u001b[39m.\u001b[39mget_loc(casted_key)\n\u001b[1;32m   3622\u001b[0m \u001b[39mexcept\u001b[39;00m \u001b[39mKeyError\u001b[39;00m \u001b[39mas\u001b[39;00m err:\n\u001b[0;32m-> 3623\u001b[0m     \u001b[39mraise\u001b[39;00m \u001b[39mKeyError\u001b[39;00m(key) \u001b[39mfrom\u001b[39;00m \u001b[39merr\u001b[39;00m\n\u001b[1;32m   3624\u001b[0m \u001b[39mexcept\u001b[39;00m \u001b[39mTypeError\u001b[39;00m:\n\u001b[1;32m   3625\u001b[0m     \u001b[39m# If we have a listlike key, _check_indexing_error will raise\u001b[39;00m\n\u001b[1;32m   3626\u001b[0m     \u001b[39m#  InvalidIndexError. Otherwise we fall through and re-raise\u001b[39;00m\n\u001b[1;32m   3627\u001b[0m     \u001b[39m#  the TypeError.\u001b[39;00m\n\u001b[1;32m   3628\u001b[0m     \u001b[39mself\u001b[39m\u001b[39m.\u001b[39m_check_indexing_error(key)\n",
      "\u001b[0;31mKeyError\u001b[0m: 'prccd'"
     ]
    }
   ],
   "source": [
    "close_prices[\"return\"] = close_prices['prccd'].pct_change()"
   ]
  },
  {
   "cell_type": "code",
   "execution_count": 390,
   "metadata": {},
   "outputs": [],
   "source": [
    "close_prices = close_prices[1:]"
   ]
  },
  {
   "cell_type": "code",
   "execution_count": 391,
   "metadata": {},
   "outputs": [
    {
     "data": {
      "text/html": [
       "<div>\n",
       "<style scoped>\n",
       "    .dataframe tbody tr th:only-of-type {\n",
       "        vertical-align: middle;\n",
       "    }\n",
       "\n",
       "    .dataframe tbody tr th {\n",
       "        vertical-align: top;\n",
       "    }\n",
       "\n",
       "    .dataframe thead th {\n",
       "        text-align: right;\n",
       "    }\n",
       "</style>\n",
       "<table border=\"1\" class=\"dataframe\">\n",
       "  <thead>\n",
       "    <tr style=\"text-align: right;\">\n",
       "      <th></th>\n",
       "      <th>Close</th>\n",
       "      <th>return</th>\n",
       "    </tr>\n",
       "    <tr>\n",
       "      <th>Date</th>\n",
       "      <th></th>\n",
       "      <th></th>\n",
       "    </tr>\n",
       "  </thead>\n",
       "  <tbody>\n",
       "    <tr>\n",
       "      <th>2019-01-09 00:00:00-05:00</th>\n",
       "      <td>10.800000</td>\n",
       "      <td>0.011236</td>\n",
       "    </tr>\n",
       "    <tr>\n",
       "      <th>2019-01-10 00:00:00-05:00</th>\n",
       "      <td>10.850000</td>\n",
       "      <td>0.004630</td>\n",
       "    </tr>\n",
       "    <tr>\n",
       "      <th>2019-01-11 00:00:00-05:00</th>\n",
       "      <td>10.900000</td>\n",
       "      <td>0.004608</td>\n",
       "    </tr>\n",
       "    <tr>\n",
       "      <th>2019-01-14 00:00:00-05:00</th>\n",
       "      <td>10.860000</td>\n",
       "      <td>-0.003670</td>\n",
       "    </tr>\n",
       "    <tr>\n",
       "      <th>2019-01-15 00:00:00-05:00</th>\n",
       "      <td>10.890000</td>\n",
       "      <td>0.002762</td>\n",
       "    </tr>\n",
       "    <tr>\n",
       "      <th>...</th>\n",
       "      <td>...</td>\n",
       "      <td>...</td>\n",
       "    </tr>\n",
       "    <tr>\n",
       "      <th>2021-12-23 00:00:00-05:00</th>\n",
       "      <td>16.690001</td>\n",
       "      <td>0.006028</td>\n",
       "    </tr>\n",
       "    <tr>\n",
       "      <th>2021-12-27 00:00:00-05:00</th>\n",
       "      <td>16.920000</td>\n",
       "      <td>0.013781</td>\n",
       "    </tr>\n",
       "    <tr>\n",
       "      <th>2021-12-28 00:00:00-05:00</th>\n",
       "      <td>16.910000</td>\n",
       "      <td>-0.000591</td>\n",
       "    </tr>\n",
       "    <tr>\n",
       "      <th>2021-12-29 00:00:00-05:00</th>\n",
       "      <td>16.969999</td>\n",
       "      <td>0.003548</td>\n",
       "    </tr>\n",
       "    <tr>\n",
       "      <th>2021-12-30 00:00:00-05:00</th>\n",
       "      <td>16.889999</td>\n",
       "      <td>-0.004714</td>\n",
       "    </tr>\n",
       "  </tbody>\n",
       "</table>\n",
       "<p>751 rows × 2 columns</p>\n",
       "</div>"
      ],
      "text/plain": [
       "                               Close    return\n",
       "Date                                          \n",
       "2019-01-09 00:00:00-05:00  10.800000  0.011236\n",
       "2019-01-10 00:00:00-05:00  10.850000  0.004630\n",
       "2019-01-11 00:00:00-05:00  10.900000  0.004608\n",
       "2019-01-14 00:00:00-05:00  10.860000 -0.003670\n",
       "2019-01-15 00:00:00-05:00  10.890000  0.002762\n",
       "...                              ...       ...\n",
       "2021-12-23 00:00:00-05:00  16.690001  0.006028\n",
       "2021-12-27 00:00:00-05:00  16.920000  0.013781\n",
       "2021-12-28 00:00:00-05:00  16.910000 -0.000591\n",
       "2021-12-29 00:00:00-05:00  16.969999  0.003548\n",
       "2021-12-30 00:00:00-05:00  16.889999 -0.004714\n",
       "\n",
       "[751 rows x 2 columns]"
      ]
     },
     "execution_count": 391,
     "metadata": {},
     "output_type": "execute_result"
    }
   ],
   "source": [
    "close_prices"
   ]
  },
  {
   "cell_type": "code",
   "execution_count": 392,
   "metadata": {},
   "outputs": [],
   "source": [
    "close_prices.index.names = ['date']\n"
   ]
  },
  {
   "cell_type": "code",
   "execution_count": 393,
   "metadata": {},
   "outputs": [
    {
     "data": {
      "text/html": [
       "<div>\n",
       "<style scoped>\n",
       "    .dataframe tbody tr th:only-of-type {\n",
       "        vertical-align: middle;\n",
       "    }\n",
       "\n",
       "    .dataframe tbody tr th {\n",
       "        vertical-align: top;\n",
       "    }\n",
       "\n",
       "    .dataframe thead th {\n",
       "        text-align: right;\n",
       "    }\n",
       "</style>\n",
       "<table border=\"1\" class=\"dataframe\">\n",
       "  <thead>\n",
       "    <tr style=\"text-align: right;\">\n",
       "      <th></th>\n",
       "      <th>Close</th>\n",
       "      <th>return</th>\n",
       "    </tr>\n",
       "    <tr>\n",
       "      <th>date</th>\n",
       "      <th></th>\n",
       "      <th></th>\n",
       "    </tr>\n",
       "  </thead>\n",
       "  <tbody>\n",
       "    <tr>\n",
       "      <th>2019-01-09 00:00:00-05:00</th>\n",
       "      <td>10.800000</td>\n",
       "      <td>0.011236</td>\n",
       "    </tr>\n",
       "    <tr>\n",
       "      <th>2019-01-10 00:00:00-05:00</th>\n",
       "      <td>10.850000</td>\n",
       "      <td>0.004630</td>\n",
       "    </tr>\n",
       "    <tr>\n",
       "      <th>2019-01-11 00:00:00-05:00</th>\n",
       "      <td>10.900000</td>\n",
       "      <td>0.004608</td>\n",
       "    </tr>\n",
       "    <tr>\n",
       "      <th>2019-01-14 00:00:00-05:00</th>\n",
       "      <td>10.860000</td>\n",
       "      <td>-0.003670</td>\n",
       "    </tr>\n",
       "    <tr>\n",
       "      <th>2019-01-15 00:00:00-05:00</th>\n",
       "      <td>10.890000</td>\n",
       "      <td>0.002762</td>\n",
       "    </tr>\n",
       "    <tr>\n",
       "      <th>...</th>\n",
       "      <td>...</td>\n",
       "      <td>...</td>\n",
       "    </tr>\n",
       "    <tr>\n",
       "      <th>2021-12-23 00:00:00-05:00</th>\n",
       "      <td>16.690001</td>\n",
       "      <td>0.006028</td>\n",
       "    </tr>\n",
       "    <tr>\n",
       "      <th>2021-12-27 00:00:00-05:00</th>\n",
       "      <td>16.920000</td>\n",
       "      <td>0.013781</td>\n",
       "    </tr>\n",
       "    <tr>\n",
       "      <th>2021-12-28 00:00:00-05:00</th>\n",
       "      <td>16.910000</td>\n",
       "      <td>-0.000591</td>\n",
       "    </tr>\n",
       "    <tr>\n",
       "      <th>2021-12-29 00:00:00-05:00</th>\n",
       "      <td>16.969999</td>\n",
       "      <td>0.003548</td>\n",
       "    </tr>\n",
       "    <tr>\n",
       "      <th>2021-12-30 00:00:00-05:00</th>\n",
       "      <td>16.889999</td>\n",
       "      <td>-0.004714</td>\n",
       "    </tr>\n",
       "  </tbody>\n",
       "</table>\n",
       "<p>751 rows × 2 columns</p>\n",
       "</div>"
      ],
      "text/plain": [
       "                               Close    return\n",
       "date                                          \n",
       "2019-01-09 00:00:00-05:00  10.800000  0.011236\n",
       "2019-01-10 00:00:00-05:00  10.850000  0.004630\n",
       "2019-01-11 00:00:00-05:00  10.900000  0.004608\n",
       "2019-01-14 00:00:00-05:00  10.860000 -0.003670\n",
       "2019-01-15 00:00:00-05:00  10.890000  0.002762\n",
       "...                              ...       ...\n",
       "2021-12-23 00:00:00-05:00  16.690001  0.006028\n",
       "2021-12-27 00:00:00-05:00  16.920000  0.013781\n",
       "2021-12-28 00:00:00-05:00  16.910000 -0.000591\n",
       "2021-12-29 00:00:00-05:00  16.969999  0.003548\n",
       "2021-12-30 00:00:00-05:00  16.889999 -0.004714\n",
       "\n",
       "[751 rows x 2 columns]"
      ]
     },
     "execution_count": 393,
     "metadata": {},
     "output_type": "execute_result"
    }
   ],
   "source": [
    "close_prices"
   ]
  },
  {
   "cell_type": "code",
   "execution_count": 394,
   "metadata": {},
   "outputs": [
    {
     "ename": "KeyError",
     "evalue": "\"None of ['date'] are in the columns\"",
     "output_type": "error",
     "traceback": [
      "\u001b[0;31m---------------------------------------------------------------------------\u001b[0m",
      "\u001b[0;31mKeyError\u001b[0m                                  Traceback (most recent call last)",
      "\u001b[1;32m/Users/rudra/Library/CloudStorage/OneDrive-Personal/Documents/quant_investment_strats/Fama-French/fama-french.ipynb Cell 30\u001b[0m in \u001b[0;36m<cell line: 1>\u001b[0;34m()\u001b[0m\n\u001b[0;32m----> <a href='vscode-notebook-cell:/Users/rudra/Library/CloudStorage/OneDrive-Personal/Documents/quant_investment_strats/Fama-French/fama-french.ipynb#X20sZmlsZQ%3D%3D?line=0'>1</a>\u001b[0m ff \u001b[39m=\u001b[39m ff\u001b[39m.\u001b[39;49mset_index(\u001b[39m\"\u001b[39;49m\u001b[39mdate\u001b[39;49m\u001b[39m\"\u001b[39;49m)\n",
      "File \u001b[0;32m/opt/anaconda3/lib/python3.9/site-packages/pandas/util/_decorators.py:311\u001b[0m, in \u001b[0;36mdeprecate_nonkeyword_arguments.<locals>.decorate.<locals>.wrapper\u001b[0;34m(*args, **kwargs)\u001b[0m\n\u001b[1;32m    305\u001b[0m \u001b[39mif\u001b[39;00m \u001b[39mlen\u001b[39m(args) \u001b[39m>\u001b[39m num_allow_args:\n\u001b[1;32m    306\u001b[0m     warnings\u001b[39m.\u001b[39mwarn(\n\u001b[1;32m    307\u001b[0m         msg\u001b[39m.\u001b[39mformat(arguments\u001b[39m=\u001b[39marguments),\n\u001b[1;32m    308\u001b[0m         \u001b[39mFutureWarning\u001b[39;00m,\n\u001b[1;32m    309\u001b[0m         stacklevel\u001b[39m=\u001b[39mstacklevel,\n\u001b[1;32m    310\u001b[0m     )\n\u001b[0;32m--> 311\u001b[0m \u001b[39mreturn\u001b[39;00m func(\u001b[39m*\u001b[39;49margs, \u001b[39m*\u001b[39;49m\u001b[39m*\u001b[39;49mkwargs)\n",
      "File \u001b[0;32m/opt/anaconda3/lib/python3.9/site-packages/pandas/core/frame.py:5494\u001b[0m, in \u001b[0;36mDataFrame.set_index\u001b[0;34m(self, keys, drop, append, inplace, verify_integrity)\u001b[0m\n\u001b[1;32m   5491\u001b[0m                 missing\u001b[39m.\u001b[39mappend(col)\n\u001b[1;32m   5493\u001b[0m \u001b[39mif\u001b[39;00m missing:\n\u001b[0;32m-> 5494\u001b[0m     \u001b[39mraise\u001b[39;00m \u001b[39mKeyError\u001b[39;00m(\u001b[39mf\u001b[39m\u001b[39m\"\u001b[39m\u001b[39mNone of \u001b[39m\u001b[39m{\u001b[39;00mmissing\u001b[39m}\u001b[39;00m\u001b[39m are in the columns\u001b[39m\u001b[39m\"\u001b[39m)\n\u001b[1;32m   5496\u001b[0m \u001b[39mif\u001b[39;00m inplace:\n\u001b[1;32m   5497\u001b[0m     frame \u001b[39m=\u001b[39m \u001b[39mself\u001b[39m\n",
      "\u001b[0;31mKeyError\u001b[0m: \"None of ['date'] are in the columns\""
     ]
    }
   ],
   "source": [
    "ff = ff.set_index(\"date\")"
   ]
  },
  {
   "cell_type": "code",
   "execution_count": 395,
   "metadata": {},
   "outputs": [
    {
     "data": {
      "text/plain": [
       "pandas._libs.tslibs.timestamps.Timestamp"
      ]
     },
     "execution_count": 395,
     "metadata": {},
     "output_type": "execute_result"
    }
   ],
   "source": [
    "type(close_prices.index[0])"
   ]
  },
  {
   "cell_type": "code",
   "execution_count": 396,
   "metadata": {},
   "outputs": [
    {
     "data": {
      "text/plain": [
       "datetime.date"
      ]
     },
     "execution_count": 396,
     "metadata": {},
     "output_type": "execute_result"
    }
   ],
   "source": [
    "type(ff.index[0])"
   ]
  },
  {
   "cell_type": "code",
   "execution_count": 397,
   "metadata": {},
   "outputs": [],
   "source": [
    "close_prices.index = close_prices.index.date"
   ]
  },
  {
   "cell_type": "code",
   "execution_count": 398,
   "metadata": {},
   "outputs": [
    {
     "ename": "AttributeError",
     "evalue": "'Index' object has no attribute 'date'",
     "output_type": "error",
     "traceback": [
      "\u001b[0;31m---------------------------------------------------------------------------\u001b[0m",
      "\u001b[0;31mAttributeError\u001b[0m                            Traceback (most recent call last)",
      "\u001b[1;32m/Users/rudra/Library/CloudStorage/OneDrive-Personal/Documents/quant_investment_strats/Fama-French/fama-french.ipynb Cell 34\u001b[0m in \u001b[0;36m<cell line: 1>\u001b[0;34m()\u001b[0m\n\u001b[0;32m----> <a href='vscode-notebook-cell:/Users/rudra/Library/CloudStorage/OneDrive-Personal/Documents/quant_investment_strats/Fama-French/fama-french.ipynb#X63sZmlsZQ%3D%3D?line=0'>1</a>\u001b[0m ff\u001b[39m.\u001b[39mindex \u001b[39m=\u001b[39m ff\u001b[39m.\u001b[39;49mindex\u001b[39m.\u001b[39;49mdate\n",
      "\u001b[0;31mAttributeError\u001b[0m: 'Index' object has no attribute 'date'"
     ]
    }
   ],
   "source": [
    "ff.index = ff.index.date"
   ]
  },
  {
   "cell_type": "code",
   "execution_count": 399,
   "metadata": {},
   "outputs": [],
   "source": [
    "ff_example = pd.merge(ff, close_prices[[\"return\"]],left_index=True, right_index=True)"
   ]
  },
  {
   "cell_type": "code",
   "execution_count": 400,
   "metadata": {},
   "outputs": [
    {
     "data": {
      "text/html": [
       "<div>\n",
       "<style scoped>\n",
       "    .dataframe tbody tr th:only-of-type {\n",
       "        vertical-align: middle;\n",
       "    }\n",
       "\n",
       "    .dataframe tbody tr th {\n",
       "        vertical-align: top;\n",
       "    }\n",
       "\n",
       "    .dataframe thead th {\n",
       "        text-align: right;\n",
       "    }\n",
       "</style>\n",
       "<table border=\"1\" class=\"dataframe\">\n",
       "  <thead>\n",
       "    <tr style=\"text-align: right;\">\n",
       "      <th></th>\n",
       "      <th>mktrf</th>\n",
       "      <th>smb</th>\n",
       "      <th>hml</th>\n",
       "      <th>rmw</th>\n",
       "      <th>cma</th>\n",
       "      <th>rf</th>\n",
       "      <th>umd</th>\n",
       "      <th>return</th>\n",
       "    </tr>\n",
       "  </thead>\n",
       "  <tbody>\n",
       "    <tr>\n",
       "      <th>2019-01-09</th>\n",
       "      <td>0.0056</td>\n",
       "      <td>0.0050</td>\n",
       "      <td>0.0010</td>\n",
       "      <td>0.0008</td>\n",
       "      <td>-0.0019</td>\n",
       "      <td>0.0001</td>\n",
       "      <td>-0.0081</td>\n",
       "      <td>0.011236</td>\n",
       "    </tr>\n",
       "    <tr>\n",
       "      <th>2019-01-10</th>\n",
       "      <td>0.0042</td>\n",
       "      <td>0.0000</td>\n",
       "      <td>-0.0046</td>\n",
       "      <td>-0.0006</td>\n",
       "      <td>-0.0004</td>\n",
       "      <td>0.0001</td>\n",
       "      <td>-0.0038</td>\n",
       "      <td>0.004630</td>\n",
       "    </tr>\n",
       "    <tr>\n",
       "      <th>2019-01-11</th>\n",
       "      <td>-0.0001</td>\n",
       "      <td>0.0020</td>\n",
       "      <td>0.0022</td>\n",
       "      <td>0.0023</td>\n",
       "      <td>0.0025</td>\n",
       "      <td>0.0001</td>\n",
       "      <td>-0.0021</td>\n",
       "      <td>0.004608</td>\n",
       "    </tr>\n",
       "    <tr>\n",
       "      <th>2019-01-14</th>\n",
       "      <td>-0.0060</td>\n",
       "      <td>-0.0045</td>\n",
       "      <td>0.0094</td>\n",
       "      <td>0.0024</td>\n",
       "      <td>0.0000</td>\n",
       "      <td>0.0001</td>\n",
       "      <td>-0.0060</td>\n",
       "      <td>-0.003670</td>\n",
       "    </tr>\n",
       "    <tr>\n",
       "      <th>2019-01-15</th>\n",
       "      <td>0.0106</td>\n",
       "      <td>-0.0014</td>\n",
       "      <td>-0.0088</td>\n",
       "      <td>-0.0030</td>\n",
       "      <td>-0.0057</td>\n",
       "      <td>0.0001</td>\n",
       "      <td>0.0115</td>\n",
       "      <td>0.002762</td>\n",
       "    </tr>\n",
       "    <tr>\n",
       "      <th>...</th>\n",
       "      <td>...</td>\n",
       "      <td>...</td>\n",
       "      <td>...</td>\n",
       "      <td>...</td>\n",
       "      <td>...</td>\n",
       "      <td>...</td>\n",
       "      <td>...</td>\n",
       "      <td>...</td>\n",
       "    </tr>\n",
       "    <tr>\n",
       "      <th>2021-12-23</th>\n",
       "      <td>0.0071</td>\n",
       "      <td>0.0029</td>\n",
       "      <td>-0.0048</td>\n",
       "      <td>-0.0037</td>\n",
       "      <td>-0.0039</td>\n",
       "      <td>0.0000</td>\n",
       "      <td>0.0009</td>\n",
       "      <td>0.006028</td>\n",
       "    </tr>\n",
       "    <tr>\n",
       "      <th>2021-12-27</th>\n",
       "      <td>0.0122</td>\n",
       "      <td>-0.0013</td>\n",
       "      <td>0.0030</td>\n",
       "      <td>0.0097</td>\n",
       "      <td>0.0048</td>\n",
       "      <td>0.0000</td>\n",
       "      <td>0.0193</td>\n",
       "      <td>0.013781</td>\n",
       "    </tr>\n",
       "    <tr>\n",
       "      <th>2021-12-28</th>\n",
       "      <td>-0.0027</td>\n",
       "      <td>-0.0041</td>\n",
       "      <td>0.0081</td>\n",
       "      <td>0.0085</td>\n",
       "      <td>0.0021</td>\n",
       "      <td>0.0000</td>\n",
       "      <td>-0.0053</td>\n",
       "      <td>-0.000591</td>\n",
       "    </tr>\n",
       "    <tr>\n",
       "      <th>2021-12-29</th>\n",
       "      <td>0.0006</td>\n",
       "      <td>-0.0002</td>\n",
       "      <td>0.0017</td>\n",
       "      <td>0.0069</td>\n",
       "      <td>0.0002</td>\n",
       "      <td>0.0000</td>\n",
       "      <td>0.0042</td>\n",
       "      <td>0.003548</td>\n",
       "    </tr>\n",
       "    <tr>\n",
       "      <th>2021-12-30</th>\n",
       "      <td>-0.0015</td>\n",
       "      <td>0.0007</td>\n",
       "      <td>-0.0040</td>\n",
       "      <td>-0.0083</td>\n",
       "      <td>-0.0043</td>\n",
       "      <td>0.0000</td>\n",
       "      <td>-0.0105</td>\n",
       "      <td>-0.004714</td>\n",
       "    </tr>\n",
       "  </tbody>\n",
       "</table>\n",
       "<p>751 rows × 8 columns</p>\n",
       "</div>"
      ],
      "text/plain": [
       "             mktrf     smb     hml     rmw     cma      rf     umd    return\n",
       "2019-01-09  0.0056  0.0050  0.0010  0.0008 -0.0019  0.0001 -0.0081  0.011236\n",
       "2019-01-10  0.0042  0.0000 -0.0046 -0.0006 -0.0004  0.0001 -0.0038  0.004630\n",
       "2019-01-11 -0.0001  0.0020  0.0022  0.0023  0.0025  0.0001 -0.0021  0.004608\n",
       "2019-01-14 -0.0060 -0.0045  0.0094  0.0024  0.0000  0.0001 -0.0060 -0.003670\n",
       "2019-01-15  0.0106 -0.0014 -0.0088 -0.0030 -0.0057  0.0001  0.0115  0.002762\n",
       "...            ...     ...     ...     ...     ...     ...     ...       ...\n",
       "2021-12-23  0.0071  0.0029 -0.0048 -0.0037 -0.0039  0.0000  0.0009  0.006028\n",
       "2021-12-27  0.0122 -0.0013  0.0030  0.0097  0.0048  0.0000  0.0193  0.013781\n",
       "2021-12-28 -0.0027 -0.0041  0.0081  0.0085  0.0021  0.0000 -0.0053 -0.000591\n",
       "2021-12-29  0.0006 -0.0002  0.0017  0.0069  0.0002  0.0000  0.0042  0.003548\n",
       "2021-12-30 -0.0015  0.0007 -0.0040 -0.0083 -0.0043  0.0000 -0.0105 -0.004714\n",
       "\n",
       "[751 rows x 8 columns]"
      ]
     },
     "execution_count": 400,
     "metadata": {},
     "output_type": "execute_result"
    }
   ],
   "source": [
    "ff_example"
   ]
  },
  {
   "cell_type": "code",
   "execution_count": 401,
   "metadata": {},
   "outputs": [],
   "source": [
    "ff_example[\"sec-rf\"] = ff_example['return'] - ff_example[\"rf\"]"
   ]
  },
  {
   "cell_type": "code",
   "execution_count": 402,
   "metadata": {},
   "outputs": [],
   "source": [
    "y = ff_example[\"sec-rf\"]\n",
    "X = ff_example[[\"mktrf\", \"smb\", \"hml\", \"rmw\", \"cma\", \"umd\"]]"
   ]
  },
  {
   "cell_type": "code",
   "execution_count": 403,
   "metadata": {},
   "outputs": [],
   "source": [
    "import statsmodels.api as sm"
   ]
  },
  {
   "cell_type": "code",
   "execution_count": 404,
   "metadata": {},
   "outputs": [],
   "source": [
    "X_sm = sm.add_constant(X)"
   ]
  },
  {
   "cell_type": "code",
   "execution_count": 405,
   "metadata": {},
   "outputs": [
    {
     "data": {
      "text/html": [
       "<table class=\"simpletable\">\n",
       "<caption>OLS Regression Results</caption>\n",
       "<tr>\n",
       "  <th>Dep. Variable:</th>         <td>sec-rf</td>      <th>  R-squared:         </th> <td>   0.980</td>\n",
       "</tr>\n",
       "<tr>\n",
       "  <th>Model:</th>                   <td>OLS</td>       <th>  Adj. R-squared:    </th> <td>   0.980</td>\n",
       "</tr>\n",
       "<tr>\n",
       "  <th>Method:</th>             <td>Least Squares</td>  <th>  F-statistic:       </th> <td>   6074.</td>\n",
       "</tr>\n",
       "<tr>\n",
       "  <th>Date:</th>             <td>Thu, 13 Oct 2022</td> <th>  Prob (F-statistic):</th>  <td>  0.00</td> \n",
       "</tr>\n",
       "<tr>\n",
       "  <th>Time:</th>                 <td>13:23:04</td>     <th>  Log-Likelihood:    </th> <td>  3315.4</td>\n",
       "</tr>\n",
       "<tr>\n",
       "  <th>No. Observations:</th>      <td>   751</td>      <th>  AIC:               </th> <td>  -6617.</td>\n",
       "</tr>\n",
       "<tr>\n",
       "  <th>Df Residuals:</th>          <td>   744</td>      <th>  BIC:               </th> <td>  -6584.</td>\n",
       "</tr>\n",
       "<tr>\n",
       "  <th>Df Model:</th>              <td>     6</td>      <th>                     </th>     <td> </td>   \n",
       "</tr>\n",
       "<tr>\n",
       "  <th>Covariance Type:</th>      <td>nonrobust</td>    <th>                     </th>     <td> </td>   \n",
       "</tr>\n",
       "</table>\n",
       "<table class=\"simpletable\">\n",
       "<tr>\n",
       "    <td></td>       <th>coef</th>     <th>std err</th>      <th>t</th>      <th>P>|t|</th>  <th>[0.025</th>    <th>0.975]</th>  \n",
       "</tr>\n",
       "<tr>\n",
       "  <th>const</th> <td>-2.886e-05</td> <td>    0.000</td> <td>   -0.267</td> <td> 0.789</td> <td>   -0.000</td> <td>    0.000</td>\n",
       "</tr>\n",
       "<tr>\n",
       "  <th>mktrf</th> <td>    0.9948</td> <td>    0.008</td> <td>  124.065</td> <td> 0.000</td> <td>    0.979</td> <td>    1.011</td>\n",
       "</tr>\n",
       "<tr>\n",
       "  <th>smb</th>   <td>    0.8560</td> <td>    0.016</td> <td>   52.803</td> <td> 0.000</td> <td>    0.824</td> <td>    0.888</td>\n",
       "</tr>\n",
       "<tr>\n",
       "  <th>hml</th>   <td>    0.5781</td> <td>    0.017</td> <td>   34.777</td> <td> 0.000</td> <td>    0.545</td> <td>    0.611</td>\n",
       "</tr>\n",
       "<tr>\n",
       "  <th>rmw</th>   <td>    0.1655</td> <td>    0.024</td> <td>    6.877</td> <td> 0.000</td> <td>    0.118</td> <td>    0.213</td>\n",
       "</tr>\n",
       "<tr>\n",
       "  <th>cma</th>   <td>   -0.1857</td> <td>    0.032</td> <td>   -5.851</td> <td> 0.000</td> <td>   -0.248</td> <td>   -0.123</td>\n",
       "</tr>\n",
       "<tr>\n",
       "  <th>umd</th>   <td>    0.0224</td> <td>    0.011</td> <td>    2.080</td> <td> 0.038</td> <td>    0.001</td> <td>    0.044</td>\n",
       "</tr>\n",
       "</table>\n",
       "<table class=\"simpletable\">\n",
       "<tr>\n",
       "  <th>Omnibus:</th>       <td>164.003</td> <th>  Durbin-Watson:     </th> <td>   2.219</td>\n",
       "</tr>\n",
       "<tr>\n",
       "  <th>Prob(Omnibus):</th> <td> 0.000</td>  <th>  Jarque-Bera (JB):  </th> <td>3242.772</td>\n",
       "</tr>\n",
       "<tr>\n",
       "  <th>Skew:</th>          <td>-0.408</td>  <th>  Prob(JB):          </th> <td>    0.00</td>\n",
       "</tr>\n",
       "<tr>\n",
       "  <th>Kurtosis:</th>      <td>13.147</td>  <th>  Cond. No.          </th> <td>    315.</td>\n",
       "</tr>\n",
       "</table><br/><br/>Notes:<br/>[1] Standard Errors assume that the covariance matrix of the errors is correctly specified."
      ],
      "text/plain": [
       "<class 'statsmodels.iolib.summary.Summary'>\n",
       "\"\"\"\n",
       "                            OLS Regression Results                            \n",
       "==============================================================================\n",
       "Dep. Variable:                 sec-rf   R-squared:                       0.980\n",
       "Model:                            OLS   Adj. R-squared:                  0.980\n",
       "Method:                 Least Squares   F-statistic:                     6074.\n",
       "Date:                Thu, 13 Oct 2022   Prob (F-statistic):               0.00\n",
       "Time:                        13:23:04   Log-Likelihood:                 3315.4\n",
       "No. Observations:                 751   AIC:                            -6617.\n",
       "Df Residuals:                     744   BIC:                            -6584.\n",
       "Df Model:                           6                                         \n",
       "Covariance Type:            nonrobust                                         \n",
       "==============================================================================\n",
       "                 coef    std err          t      P>|t|      [0.025      0.975]\n",
       "------------------------------------------------------------------------------\n",
       "const      -2.886e-05      0.000     -0.267      0.789      -0.000       0.000\n",
       "mktrf          0.9948      0.008    124.065      0.000       0.979       1.011\n",
       "smb            0.8560      0.016     52.803      0.000       0.824       0.888\n",
       "hml            0.5781      0.017     34.777      0.000       0.545       0.611\n",
       "rmw            0.1655      0.024      6.877      0.000       0.118       0.213\n",
       "cma           -0.1857      0.032     -5.851      0.000      -0.248      -0.123\n",
       "umd            0.0224      0.011      2.080      0.038       0.001       0.044\n",
       "==============================================================================\n",
       "Omnibus:                      164.003   Durbin-Watson:                   2.219\n",
       "Prob(Omnibus):                  0.000   Jarque-Bera (JB):             3242.772\n",
       "Skew:                          -0.408   Prob(JB):                         0.00\n",
       "Kurtosis:                      13.147   Cond. No.                         315.\n",
       "==============================================================================\n",
       "\n",
       "Notes:\n",
       "[1] Standard Errors assume that the covariance matrix of the errors is correctly specified.\n",
       "\"\"\""
      ]
     },
     "execution_count": 405,
     "metadata": {},
     "output_type": "execute_result"
    }
   ],
   "source": [
    "model = sm.OLS(y,X_sm)\n",
    "results = model.fit()\n",
    "results.summary()"
   ]
  },
  {
   "cell_type": "code",
   "execution_count": null,
   "metadata": {},
   "outputs": [],
   "source": [
    "# mktrf = beta\n",
    "# smb = ~0: large cap, 0.5< : small cap\n",
    "# hml: A zero value defines a growth portfolio, a value of more than 0.3, a value fund.) \n",
    "# rmw\n"
   ]
  }
 ],
 "metadata": {
  "kernelspec": {
   "display_name": "Python 3.9.12 ('base')",
   "language": "python",
   "name": "python3"
  },
  "language_info": {
   "codemirror_mode": {
    "name": "ipython",
    "version": 3
   },
   "file_extension": ".py",
   "mimetype": "text/x-python",
   "name": "python",
   "nbconvert_exporter": "python",
   "pygments_lexer": "ipython3",
   "version": "3.9.12"
  },
  "orig_nbformat": 4,
  "vscode": {
   "interpreter": {
    "hash": "40d3a090f54c6569ab1632332b64b2c03c39dcf918b08424e98f38b5ae0af88f"
   }
  }
 },
 "nbformat": 4,
 "nbformat_minor": 2
}
